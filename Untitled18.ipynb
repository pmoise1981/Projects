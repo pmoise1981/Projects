{
  "nbformat": 4,
  "nbformat_minor": 0,
  "metadata": {
    "colab": {
      "name": "Untitled18.ipynb",
      "provenance": [],
      "authorship_tag": "ABX9TyOohufAMeQ4HNdkyxljwH2m",
      "include_colab_link": true
    },
    "kernelspec": {
      "name": "python3",
      "display_name": "Python 3"
    },
    "accelerator": "GPU"
  },
  "cells": [
    {
      "cell_type": "markdown",
      "metadata": {
        "id": "view-in-github",
        "colab_type": "text"
      },
      "source": [
        "<a href=\"https://colab.research.google.com/github/pmoise1981/Projects/blob/master/Untitled18.ipynb\" target=\"_parent\"><img src=\"https://colab.research.google.com/assets/colab-badge.svg\" alt=\"Open In Colab\"/></a>"
      ]
    },
    {
      "cell_type": "code",
      "metadata": {
        "id": "d9_QTct79LLq"
      },
      "source": [
        "import tensorflow as tf\n",
        "import numpy as np\n",
        "from tensorflow.keras.preprocessing.text import Tokenizer\n",
        "from tensorflow.keras.preprocessing.sequence import pad_sequences\n",
        "import tensorflow_datasets as tfds"
      ],
      "execution_count": 30,
      "outputs": []
    },
    {
      "cell_type": "code",
      "metadata": {
        "id": "keGjrDg2-xaF"
      },
      "source": [
        "dataset, info = tfds.load('imdb_reviews', with_info= True, as_supervised= True)\n",
        "train_data, test_data = dataset['train'], dataset['test']\n",
        "\n",
        "train_sentences =[]\n",
        "train_labels = []\n",
        "test_sentences = []\n",
        "test_labels = []\n",
        "for k, i in train_data:\n",
        "  train_sentences.append(str(k.numpy()))\n",
        "  train_labels.append(i.numpy())\n",
        "for k, i in test_data:\n",
        "  test_sentences.append(str(k.numpy()))\n",
        "  test_labels.append(i.numpy())\n",
        "\n",
        "train_labels_final = np.array(train_labels)\n",
        "test_labels_final = np.array(test_labels)\n"
      ],
      "execution_count": 23,
      "outputs": []
    },
    {
      "cell_type": "code",
      "metadata": {
        "id": "gt10mNTjC0As"
      },
      "source": [
        "vocab_size = 10000\n",
        "embedding_dim = 16\n",
        "max_length = 120\n",
        "oov_tok = \"<OOV>\"\n",
        "trunc_type = 'post'\n",
        "\n"
      ],
      "execution_count": 24,
      "outputs": []
    },
    {
      "cell_type": "code",
      "metadata": {
        "id": "8IEgy8XXDSWN"
      },
      "source": [
        "tokenizer = Tokenizer(num_words = vocab_size, oov_token= oov_tok)\n",
        "tokenizer.fit_on_texts(train_sentences)\n",
        "word_index = tokenizer.word_index\n",
        "sequences = tokenizer.texts_to_sequences(train_sentences)\n",
        "padded = pad_sequences(sequences, maxlen = max_length, truncating = trunc_type)\n",
        "\n",
        "text_sequences = tokenizer.texts_to_sequences(test_sentences)\n",
        "text_padded = pad_sequences(text_sequences, maxlen= max_length, truncating = trunc_type)"
      ],
      "execution_count": 40,
      "outputs": []
    },
    {
      "cell_type": "code",
      "metadata": {
        "id": "9axf0uIXVMhO",
        "outputId": "e542277f-c33f-4943-fb00-96119c27ecb1",
        "colab": {
          "base_uri": "https://localhost:8080/",
          "height": 71
        }
      },
      "source": [
        "reverse_word_index = dict([(value, key) for (key, value) in word_index.items()])\n",
        "\n",
        "def decode_review(text):\n",
        "    return ' '.join([reverse_word_index.get(i, '?') for i in text])\n",
        "\n",
        "print(decode_review(padded[3]))\n",
        "print(train_sentences[3])"
      ],
      "execution_count": 26,
      "outputs": [
        {
          "output_type": "stream",
          "text": [
            "? ? ? ? ? ? ? ? ? ? ? ? ? ? ? ? ? ? ? ? ? ? ? ? ? ? ? ? ? ? b'this is the kind of film for a snowy sunday afternoon when the rest of the world can go ahead with its own business as you <OOV> into a big arm chair and <OOV> for a couple of hours wonderful performances from cher and nicolas cage as always gently row the plot along there are no <OOV> to cross no dangerous waters just a warm and witty <OOV> through new york life at its best a family film in every sense and one that deserves the praise it received '\n",
            "b'This is the kind of film for a snowy Sunday afternoon when the rest of the world can go ahead with its own business as you descend into a big arm-chair and mellow for a couple of hours. Wonderful performances from Cher and Nicolas Cage (as always) gently row the plot along. There are no rapids to cross, no dangerous waters, just a warm and witty paddle through New York life at its best. A family film in every sense and one that deserves the praise it received.'\n"
          ],
          "name": "stdout"
        }
      ]
    },
    {
      "cell_type": "code",
      "metadata": {
        "id": "hLqkpmlanhsG",
        "outputId": "3df0e563-620b-4a2b-e8e7-12bd6adf5409",
        "colab": {
          "base_uri": "https://localhost:8080/",
          "height": 71
        }
      },
      "source": [
        "reverse_word_index = dict([(value, key) for (key, value) in word_index.items()])\n",
        "\n",
        "def decode_review(text):\n",
        "    return ' '.join([reverse_word_index.get(i, '?') for i in text])\n",
        "\n",
        "print(decode_review(padded[3]))\n",
        "print(train_sentences[3])"
      ],
      "execution_count": 28,
      "outputs": [
        {
          "output_type": "stream",
          "text": [
            "? ? ? ? ? ? ? ? ? ? ? ? ? ? ? ? ? ? ? ? ? ? ? ? ? ? ? ? ? ? b'this is the kind of film for a snowy sunday afternoon when the rest of the world can go ahead with its own business as you <OOV> into a big arm chair and <OOV> for a couple of hours wonderful performances from cher and nicolas cage as always gently row the plot along there are no <OOV> to cross no dangerous waters just a warm and witty <OOV> through new york life at its best a family film in every sense and one that deserves the praise it received '\n",
            "b'This is the kind of film for a snowy Sunday afternoon when the rest of the world can go ahead with its own business as you descend into a big arm-chair and mellow for a couple of hours. Wonderful performances from Cher and Nicolas Cage (as always) gently row the plot along. There are no rapids to cross, no dangerous waters, just a warm and witty paddle through New York life at its best. A family film in every sense and one that deserves the praise it received.'\n"
          ],
          "name": "stdout"
        }
      ]
    },
    {
      "cell_type": "code",
      "metadata": {
        "id": "GyaOk9YOoMY0",
        "outputId": "f3a70152-7881-4dd5-c208-d4ccc6ef9a51",
        "colab": {
          "base_uri": "https://localhost:8080/",
          "height": 289
        }
      },
      "source": [
        "model = tf.keras.Sequential([\n",
        "        tf.keras.layers.Embedding(vocab_size, embedding_dim, input_length = max_length),\n",
        "        tf.keras.layers.Dense(6, activation='relu'),\n",
        "        tf.keras.layers.Flatten(),\n",
        "        tf.keras.layers.Dense(1,activation='sigmoid')\n",
        "])\n",
        "\n",
        "model.compile(loss='binary_crossentropy', optimizer ='adam', metrics =['accuracy'])\n",
        "model.summary()"
      ],
      "execution_count": 34,
      "outputs": [
        {
          "output_type": "stream",
          "text": [
            "Model: \"sequential_1\"\n",
            "_________________________________________________________________\n",
            "Layer (type)                 Output Shape              Param #   \n",
            "=================================================================\n",
            "embedding_8 (Embedding)      (None, 120, 16)           160000    \n",
            "_________________________________________________________________\n",
            "dense_7 (Dense)              (None, 120, 6)            102       \n",
            "_________________________________________________________________\n",
            "flatten_1 (Flatten)          (None, 720)               0         \n",
            "_________________________________________________________________\n",
            "dense_8 (Dense)              (None, 1)                 721       \n",
            "=================================================================\n",
            "Total params: 160,823\n",
            "Trainable params: 160,823\n",
            "Non-trainable params: 0\n",
            "_________________________________________________________________\n"
          ],
          "name": "stdout"
        }
      ]
    },
    {
      "cell_type": "code",
      "metadata": {
        "id": "5NEpdhb8AxID",
        "outputId": "06425c7a-bb9a-4c76-9967-877080e82656",
        "colab": {
          "base_uri": "https://localhost:8080/",
          "height": 289
        }
      },
      "source": [
        "model = tf.keras.Sequential([\n",
        "    tf.keras.layers.Embedding(vocab_size, embedding_dim, input_length=max_length),\n",
        "    tf.keras.layers.Flatten(),\n",
        "    tf.keras.layers.Dense(6, activation='relu'),\n",
        "    tf.keras.layers.Dense(1, activation='sigmoid')\n",
        "])\n",
        "model.compile(loss='binary_crossentropy',optimizer='adam',metrics=['accuracy'])\n",
        "model.summary()\n"
      ],
      "execution_count": 32,
      "outputs": [
        {
          "output_type": "stream",
          "text": [
            "Model: \"sequential\"\n",
            "_________________________________________________________________\n",
            "Layer (type)                 Output Shape              Param #   \n",
            "=================================================================\n",
            "embedding_6 (Embedding)      (None, 120, 16)           160000    \n",
            "_________________________________________________________________\n",
            "flatten (Flatten)            (None, 1920)              0         \n",
            "_________________________________________________________________\n",
            "dense_4 (Dense)              (None, 6)                 11526     \n",
            "_________________________________________________________________\n",
            "dense_5 (Dense)              (None, 1)                 7         \n",
            "=================================================================\n",
            "Total params: 171,533\n",
            "Trainable params: 171,533\n",
            "Non-trainable params: 0\n",
            "_________________________________________________________________\n"
          ],
          "name": "stdout"
        }
      ]
    },
    {
      "cell_type": "code",
      "metadata": {
        "id": "wsH7ahint079"
      },
      "source": [
        "NUM_EPOCHS = 10"
      ],
      "execution_count": 35,
      "outputs": []
    },
    {
      "cell_type": "code",
      "metadata": {
        "id": "LXdjbVuht6yg",
        "outputId": "80232967-70cd-42e4-dfcf-04d836b1b276",
        "colab": {
          "base_uri": "https://localhost:8080/",
          "height": 374
        }
      },
      "source": [
        "model.fit(padded, train_labels_final, epochs = NUM_EPOCHS, validation_data= (text_padded, test_labels_final))"
      ],
      "execution_count": 41,
      "outputs": [
        {
          "output_type": "stream",
          "text": [
            "Epoch 1/10\n",
            "782/782 [==============================] - 6s 7ms/step - loss: 0.5502 - accuracy: 0.6990 - val_loss: 0.3948 - val_accuracy: 0.8211\n",
            "Epoch 2/10\n",
            "782/782 [==============================] - 6s 7ms/step - loss: 0.3043 - accuracy: 0.8724 - val_loss: 0.3795 - val_accuracy: 0.8304\n",
            "Epoch 3/10\n",
            "782/782 [==============================] - 6s 7ms/step - loss: 0.2337 - accuracy: 0.9084 - val_loss: 0.4176 - val_accuracy: 0.8192\n",
            "Epoch 4/10\n",
            "782/782 [==============================] - 6s 7ms/step - loss: 0.1884 - accuracy: 0.9291 - val_loss: 0.4537 - val_accuracy: 0.8173\n",
            "Epoch 5/10\n",
            "782/782 [==============================] - 6s 7ms/step - loss: 0.1480 - accuracy: 0.9466 - val_loss: 0.5202 - val_accuracy: 0.8062\n",
            "Epoch 6/10\n",
            "782/782 [==============================] - 6s 7ms/step - loss: 0.1146 - accuracy: 0.9628 - val_loss: 0.5898 - val_accuracy: 0.8024\n",
            "Epoch 7/10\n",
            "782/782 [==============================] - 6s 7ms/step - loss: 0.0865 - accuracy: 0.9740 - val_loss: 0.6587 - val_accuracy: 0.8000\n",
            "Epoch 8/10\n",
            "782/782 [==============================] - 6s 7ms/step - loss: 0.0626 - accuracy: 0.9829 - val_loss: 0.7509 - val_accuracy: 0.7952\n",
            "Epoch 9/10\n",
            "782/782 [==============================] - 6s 7ms/step - loss: 0.0421 - accuracy: 0.9916 - val_loss: 0.8456 - val_accuracy: 0.7928\n",
            "Epoch 10/10\n",
            "782/782 [==============================] - 6s 7ms/step - loss: 0.0285 - accuracy: 0.9950 - val_loss: 0.9529 - val_accuracy: 0.7906\n"
          ],
          "name": "stdout"
        },
        {
          "output_type": "execute_result",
          "data": {
            "text/plain": [
              "<tensorflow.python.keras.callbacks.History at 0x7f6e75bbcc88>"
            ]
          },
          "metadata": {
            "tags": []
          },
          "execution_count": 41
        }
      ]
    },
    {
      "cell_type": "code",
      "metadata": {
        "id": "yAmjJqEyCOF_",
        "outputId": "2bd0c790-d4b3-4745-b75d-18a607d6ea7c",
        "colab": {
          "base_uri": "https://localhost:8080/",
          "height": 34
        }
      },
      "source": [
        "e = model.layers[0]\n",
        "weights = e.get_weights()[0]\n",
        "print(weights.shape) # shape: (vocab_size, embedding_dim)"
      ],
      "execution_count": 42,
      "outputs": [
        {
          "output_type": "stream",
          "text": [
            "(10000, 16)\n"
          ],
          "name": "stdout"
        }
      ]
    },
    {
      "cell_type": "code",
      "metadata": {
        "id": "jmB0Uxk0ycP6"
      },
      "source": [
        "import io\n",
        "\n",
        "out_v = io.open('vecs.tsv', 'w', encoding='utf-8')\n",
        "out_m = io.open('meta.tsv', 'w', encoding='utf-8')\n",
        "for word_num in range(1, vocab_size):\n",
        "  word = reverse_word_index[word_num]\n",
        "  embeddings = weights[word_num]\n",
        "  out_m.write(word + \"\\n\")\n",
        "  out_v.write('\\t'.join([str(x) for x in embeddings]) + \"\\n\")\n",
        "out_v.close()\n",
        "out_m.close()"
      ],
      "execution_count": 44,
      "outputs": []
    }
  ]
}